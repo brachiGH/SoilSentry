{
 "cells": [
  {
   "cell_type": "code",
   "execution_count": null,
   "id": "5f020af7-b6e1-4496-8df3-667094324f9d",
   "metadata": {},
   "outputs": [],
   "source": []
  },
  {
   "cell_type": "markdown",
   "id": "56069ec9-a376-43ab-bc33-68366d4d6d1c",
   "metadata": {},
   "source": [
    "# imports"
   ]
  },
  {
   "cell_type": "code",
   "execution_count": 4,
   "id": "621f03b7-0929-46eb-b571-c347b33ac65c",
   "metadata": {},
   "outputs": [],
   "source": [
    "import paho.mqtt.client as mqtt\n",
    "import mysql.connector\n",
    "from datetime import datetime, timedelta\n",
    "import json\n",
    "import openmeteo_requests\n",
    "import requests_cache\n",
    "import pandas as pd\n",
    "from retry_requests import retry"
   ]
  },
  {
   "cell_type": "markdown",
   "id": "687cb5de-41ae-402d-a495-986473e9ed18",
   "metadata": {},
   "source": [
    "# MySQL Configuration and Database Initialization\n",
    "\n",
    "Once the connection to the MQTT server is successfully established, two key functions are executed:\n",
    "\n",
    " - create_database_if_not_exists(cursor):\n",
    "        This function checks whether the GaiaBase database exists. If it doesn't, the database is created.\n",
    "        If the creation fails, an error message is printed, and the program exits.\n",
    "\n",
    " - create_table_if_not_exists(cursor):\n",
    "        After ensuring the database is in use, this function checks if the sensor_data2 table exists.\n",
    "        If the table is missing, it's created with columns like soil_moisture, temperature, humidity, lat, lng, and a timestamp.\n",
    "        Any errors during table creation are handled similarly with an error message and program termination."
   ]
  },
  {
   "cell_type": "code",
   "execution_count": 5,
   "id": "9f5f26b7-3b70-4d83-829b-1fbfdd814066",
   "metadata": {},
   "outputs": [],
   "source": [
    "config = {\n",
    "    'user': 'GaiaDatabaseUser',\n",
    "    'password': 'brahimAZE123',\n",
    "    'host': 'localhost',\n",
    "    'database': 'GaiaBase'\n",
    "}\n",
    "\n",
    "\n",
    "# these functions are ran when MQTT server connects successfully\n",
    "def create_database_if_not_exists(cursor):\n",
    "    try:\n",
    "        cursor.execute(\"CREATE DATABASE IF NOT EXISTS GaiaBase\")\n",
    "        print(\"Database 'GaiaBase' checked/created.\")\n",
    "    except mysql.connector.Error as err:\n",
    "        print(f\"Failed creating database: {err}\")\n",
    "        exit(1)\n",
    "\n",
    "def create_table_if_not_exists(cursor):\n",
    "    cursor.execute(\"USE GaiaBase\")\n",
    "    table_creation_query = \"\"\"\n",
    "    CREATE TABLE IF NOT EXISTS sensor_data2 (\n",
    "        id INT AUTO_INCREMENT PRIMARY KEY,\n",
    "        soil_moisture INT NOT NULL,\n",
    "        temperature FLOAT NOT NULL,\n",
    "        humidity FLOAT NOT NULL,\n",
    "        lat FLOAT NOT NULL,\n",
    "        lng FLOAT NOT NULL,\n",
    "        timestamp TIMESTAMP DEFAULT CURRENT_TIMESTAMP\n",
    "    )\n",
    "    \"\"\"\n",
    "    try:\n",
    "        cursor.execute(table_creation_query)\n",
    "        print(\"Table 'sensor_data' checked/created.\")\n",
    "    except mysql.connector.Error as err:\n",
    "        print(f\"Failed creating table: {err}\")\n",
    "        exit(1)"
   ]
  },
  {
   "cell_type": "markdown",
   "id": "ad780721-4452-4272-a727-f44d5e7b6095",
   "metadata": {},
   "source": [
    "Inserting JSON Data into MySQL\n",
    "\n",
    "The insert_json_data(json_data) function is designed to parse and insert sensor data from a JSON object into the MySQL sensor_data2 table. Here's a breakdown of its key steps:\n",
    "\n",
    "- Connect to MySQL: A connection to the MySQL server is established using the configuration dictionary config, which contains details like the database user, password, host, and database name.\n",
    "\n",
    "- Parse JSON Data: The function parses the provided JSON data using the json.loads() method to extract sensor values such as soil_moisture, temperature, humidity, lat, and lng. These values correspond to the fields in the sensor_data2 table.\n",
    "\n",
    "- Insert Data: Using an SQL INSERT query, the parsed sensor data is inserted into the sensor_data2 table. The query uses placeholders (%s) to safely bind the values and execute the statement.\n",
    "\n",
    "- Error Handling: If any errors occur during the database connection or data insertion (e.g., invalid data or database issues), an error message is printed.\n",
    "\n",
    "- Close Connection: After the operation, the cursor and the database connection are closed to ensure resources are freed."
   ]
  },
  {
   "cell_type": "code",
   "execution_count": 7,
   "id": "732ad6f5-ef71-49ce-8c8c-a5cbe8c52db0",
   "metadata": {},
   "outputs": [],
   "source": [
    "def insert_json_data(json_data):\n",
    "    try:\n",
    "        # Connect to MySQL server\n",
    "        conn = mysql.connector.connect(**config)\n",
    "        cursor = conn.cursor()\n",
    "\n",
    "\n",
    "        # Parse JSON data\n",
    "        data = json.loads(json_data)\n",
    "        soil_moisture = data.get('soil_moisture')\n",
    "        temperature = data.get('temperature')\n",
    "        humidity = data.get('humidity')\n",
    "        lat = data.get('lat')\n",
    "        lng = data.get('lng')\n",
    "\n",
    "        # Insert data into table\n",
    "        insert_query = \"\"\"\n",
    "        INSERT INTO sensor_data2 (soil_moisture, temperature, humidity, lat, lng)\n",
    "        VALUES (%s, %s, %s, %s, %s)\n",
    "        \"\"\"\n",
    "        cursor.execute(insert_query, (soil_moisture, temperature, humidity, lat, lng))\n",
    "        conn.commit()\n",
    "        print(\"Data inserted successfully.\")\n",
    "\n",
    "    except mysql.connector.Error as err:\n",
    "        print(f\"Error: {err}\")\n",
    "    finally:\n",
    "        cursor.close()\n",
    "        conn.close()"
   ]
  },
  {
   "cell_type": "markdown",
   "id": "0bfd6bfb-cca3-4446-ae09-bee96d2452b6",
   "metadata": {},
   "source": [
    "# MQTT Client Setup for Data Handling\n",
    "\n",
    "The code sets up an MQTT client to receive sensor data and dispatch it to the appropriate callback functions for further processing. Here's a breakdown of the key steps:\n",
    "\n",
    "- Create MQTT Client: An instance of the MQTT client is created using mqtt.Client(), which will handle the connection to the broker and manage the communication.\n",
    "\n",
    "- Set Callback Functions: The client is configured with two key callback functions:\n",
    "        [on_connect]: This function is triggered when the client successfully connects to the MQTT broker. Typically, it subscribes to topics or confirms the connection.\n",
    "        [on_message]: This function is called whenever a message is received on a subscribed topic, handling incoming sensor data (likely JSON) that will be inserted into the database.\n",
    "\n",
    "- Connect to the MQTT Broker: The client connects to the MQTT broker running on the local server (localhost) at port 1883 (default for MQTT).\n",
    "\n",
    "- Start the Event Loop: The client.loop_forever() method starts the loop that processes network traffic."
   ]
  },
  {
   "cell_type": "code",
   "execution_count": 8,
   "id": "60ff0a1c-5487-4259-b30f-f97732cb9a74",
   "metadata": {},
   "outputs": [],
   "source": [
    "# Define the callback function for when a message is published\n",
    "def on_publish(client, userdata, mid):\n",
    "    print(\"Message published with mid: {}\".format(mid))\n",
    "\n",
    "\n",
    "# Define the callback function for when a message is received\n",
    "def on_message(client, userdata, message):\n",
    "    insert_json_data(str(message.payload.decode(\"utf-8\")))\n",
    "    print(f\"Topic: {message.topic}\\nMessage: {message.payload.decode()}\")\n",
    "\n",
    "\n",
    "# Define the callback function for when the client connects to the broker\n",
    "def on_connect(client, userdata, flags, rc):\n",
    "    # Connect to MySQL server\n",
    "    conn = mysql.connector.connect(**config)\n",
    "    cursor = conn.cursor()\n",
    "\n",
    "    # Create database and table if not exists\n",
    "    create_database_if_not_exists(cursor)\n",
    "    create_table_if_not_exists(cursor)\n",
    "\n",
    "    print(f\"Connected with result code {rc}\")\n",
    "    client.subscribe(\"gaia-lora-receiver/outgoing\")\n",
    "\n",
    "\n",
    "    cursor.close()\n",
    "    conn.close()"
   ]
  },
  {
   "cell_type": "code",
   "execution_count": 9,
   "id": "a426f8b8-7ea3-4480-b15f-efdee6bf3ff0",
   "metadata": {},
   "outputs": [
    {
     "name": "stderr",
     "output_type": "stream",
     "text": [
      "/tmp/ipykernel_4925/1575112037.py:2: DeprecationWarning: Callback API version 1 is deprecated, update to latest version\n",
      "  client = mqtt.Client()\n"
     ]
    },
    {
     "data": {
      "text/plain": [
       "<MQTTErrorCode.MQTT_ERR_SUCCESS: 0>"
      ]
     },
     "execution_count": 9,
     "metadata": {},
     "output_type": "execute_result"
    }
   ],
   "source": [
    "# Create an MQTT client instance\n",
    "client = mqtt.Client()\n",
    "\n",
    "# Set the callback functions\n",
    "client.on_connect = on_connect\n",
    "client.on_message = on_message\n",
    "client.on_publish = on_publish\n",
    "\n",
    "# Connect to the MQTT broker running on the same server\n",
    "client.connect(\"localhost\", 1883, 60)"
   ]
  },
  {
   "cell_type": "markdown",
   "id": "232d1b20-e995-474d-a650-ecb9c2255066",
   "metadata": {},
   "source": [
    "## Test the connectivity between server and MQTT"
   ]
  },
  {
   "cell_type": "code",
   "execution_count": 10,
   "id": "70c7835c-dda7-4cde-86b7-72609728177b",
   "metadata": {},
   "outputs": [
    {
     "name": "stdout",
     "output_type": "stream",
     "text": [
      "Message published with mid: 1\n",
      "Message sent successfully.\n",
      "Database 'GaiaBase' checked/created.\n",
      "Table 'sensor_data' checked/created.\n",
      "Connected with result code 0\n"
     ]
    },
    {
     "data": {
      "text/plain": [
       "<MQTTErrorCode.MQTT_ERR_SUCCESS: 0>"
      ]
     },
     "execution_count": 10,
     "metadata": {},
     "output_type": "execute_result"
    }
   ],
   "source": [
    "# Publish the message\n",
    "topic = \"gaia-lora-receiver/incoming\"\n",
    "result = client.publish(topic, \"hello from the claud\")\n",
    "\n",
    "# Check if the publish was successful\n",
    "if result.rc == mqtt.MQTT_ERR_SUCCESS:\n",
    "    print(\"Message sent successfully.\")\n",
    "else:\n",
    "    print(\"Failed to send message.\")\n",
    "\n",
    "# Loop to process network traffic and callbacks\n",
    "client.loop_start()\n",
    "\n",
    "# Optional: wait for a moment before disconnecting\n",
    "import time\n",
    "time.sleep(5)\n",
    "\n",
    "# Disconnect from the broker\n",
    "client.loop_stop()\n",
    "client.disconnect()"
   ]
  },
  {
   "cell_type": "code",
   "execution_count": null,
   "id": "a6b86d73-06f5-4628-9c52-01b592a460e1",
   "metadata": {},
   "outputs": [],
   "source": []
  },
  {
   "cell_type": "markdown",
   "id": "f6f60f8b-78d1-485d-b7b9-8e78eb28634e",
   "metadata": {},
   "source": [
    "# Irrgation system\n",
    "\n",
    "To determine if irrigation is needed and for how long based on the data of the past day, you can analyze the soil moisture, temperature, and humidity values in the context of the past day's readings from your MySQL database.\n",
    "\n",
    "Assumptions:\n",
    "\n",
    "    Soil Moisture: If the soil moisture is below 30%, irrigation is needed.\n",
    "    Temperature: Higher temperatures can accelerate water evaporation from the soil, so you can adjust irrigation time based on the temperature.\n",
    "    Humidity: Low humidity can also increase water evaporation, leading to more irrigation needs.\n",
    "\n",
    "Explanation:\n",
    "\n",
    "    Query Data: It queries the past 24 hours of data from the sensor_data table.\n",
    "    Irrigation Calculation:\n",
    "        It checks whether the soil moisture is below the threshold (30% in this case).\n",
    "        It adjusts the irrigation time based on the temperature (higher temperatures increase the irrigation time) and humidity (lower humidity increases the irrigation time).\n",
    "\n",
    "Output: If irrigation is needed, it outputs the total time (in seconds); otherwise, it says no irrigation is needed."
   ]
  },
  {
   "cell_type": "markdown",
   "id": "0717cde5-71e3-4637-bfca-68f35f040afd",
   "metadata": {},
   "source": [
    "### Fetching data"
   ]
  },
  {
   "cell_type": "code",
   "execution_count": 12,
   "id": "5c988656-7768-4c2f-bffc-1c6f3f8f1892",
   "metadata": {},
   "outputs": [
    {
     "name": "stdout",
     "output_type": "stream",
     "text": [
      "Empty DataFrame\n",
      "Columns: [soil_moisture, temperature, humidity, timestamp]\n",
      "Index: []\n"
     ]
    }
   ],
   "source": [
    "# Connect to the MySQL database\n",
    "connection = mysql.connector.connect(**config)\n",
    "cursor = connection.cursor()\n",
    "\n",
    "# Calculate the timestamp for 24 hours ago\n",
    "one_day_ago = datetime.now() - timedelta(days=1)\n",
    "\n",
    "# Query to fetch data from the past 24 hours\n",
    "query = \"\"\"\n",
    "SELECT soil_moisture, temperature, humidity, timestamp \n",
    "FROM sensor_data2 \n",
    "WHERE timestamp >= %s\n",
    "\"\"\"\n",
    "cursor.execute(query, (one_day_ago,))\n",
    "\n",
    "# Fetch all results from the executed query\n",
    "results = cursor.fetchall()\n",
    "\n",
    "# Convert the results into a pandas DataFrame\n",
    "# Define the column names that correspond to the SELECT query\n",
    "df = pd.DataFrame(results, columns=[\"soil_moisture\", \"temperature\", \"humidity\", \"timestamp\"])\n",
    "\n",
    "# Display the DataFrame\n",
    "print(df)\n",
    "\n",
    "# Close the cursor and connection\n",
    "cursor.close()\n",
    "connection.close()"
   ]
  },
  {
   "cell_type": "markdown",
   "id": "9bf2ebe5-f427-4b41-99d3-047f0565e1bd",
   "metadata": {},
   "source": [
    "### Define thresholds and base irrigation time"
   ]
  },
  {
   "cell_type": "code",
   "execution_count": null,
   "id": "f6bcc818-ecca-4b9a-9585-a00587b37915",
   "metadata": {},
   "outputs": [],
   "source": [
    "moisture_threshold = 30  # Moisture percentage threshold\n",
    "base_irrigation_time = 600  # Base irrigation time in seconds (10 minutes)\n",
    "irrigation_time = 0\n",
    "\n",
    "for row in results:\n",
    "    soil_moisture, temperature, humidity, timestamp = row\n",
    "    \n",
    "    # Check if soil moisture is below the threshold\n",
    "    if soil_moisture < moisture_threshold:\n",
    "        # Calculate irrigation time adjustments based on temperature and humidity\n",
    "        temp_factor = 1 + (temperature - 25) * 0.05  # Adjust based on temperature\n",
    "        humidity_factor = 1 - (humidity / 100)  # Adjust based on humidity\n",
    "        irrigation_time += base_irrigation_time * temp_factor * humidity_factor\n",
    "\n",
    "# If irrigation is needed, return the time in seconds\n",
    "if irrigation_time > 0:\n",
    "    print(f\"Irrigation needed for {irrigation_time:.2f} seconds.\")\n",
    "    lat, lng = get_last_lat_and_lng()\n",
    "    irrigation_decision = weather(lat, lng)\n",
    "    if (irrigation_decision):\n",
    "        sendduration(irrigation_time*1000)\n",
    "else:\n",
    "    print(\"No irrigation needed.\")"
   ]
  },
  {
   "cell_type": "markdown",
   "id": "5f5df080-78a6-49c5-95ea-8a1db74a6e1c",
   "metadata": {},
   "source": [
    "### running the irrigation system"
   ]
  },
  {
   "cell_type": "code",
   "execution_count": null,
   "id": "a5834f49-8b00-44e9-a30b-fdae4e75dd13",
   "metadata": {},
   "outputs": [],
   "source": [
    "while(True):\n",
    "    time.sleep(1000*60*60*3)\n",
    "    # 3 hour delay\n",
    "    check_irrigation()"
   ]
  },
  {
   "cell_type": "markdown",
   "id": "0a372fbf-f17a-47cc-91b0-0e44342dbb41",
   "metadata": {},
   "source": [
    "# Weather"
   ]
  },
  {
   "cell_type": "code",
   "execution_count": 15,
   "id": "f08a29c0-9070-47e6-a1ed-fe6eb1b514c0",
   "metadata": {},
   "outputs": [],
   "source": [
    "import openmeteo_requests\n",
    "import requests_cache\n",
    "import pandas as pd\n",
    "from retry_requests import retry\n",
    "\n",
    "def should_irrigate(hourly_dataframe):\n",
    "    # Define thresholds\n",
    "    high_precipitation_probability = 50  # percent\n",
    "    significant_rain = 5  # mm\n",
    "    high_temperature = 30  # Celsius (soil or air temperature)\n",
    "    \n",
    "    # Look at the next few hours of weather data (e.g., next 6 hours)\n",
    "    next_hours = hourly_dataframe.head(6)\n",
    "\n",
    "    # Check for rain and precipitation probability\n",
    "    avg_precipitation_probability = next_hours[\"precipitation_probability\"].mean()\n",
    "    total_rain = next_hours[\"rain\"].sum()\n",
    "\n",
    "    # Check for high temperatures that might require irrigation\n",
    "    avg_soil_temperature_0cm = next_hours[\"soil_temperature_0cm\"].mean()\n",
    "\n",
    "    # Decision based on weather conditions\n",
    "    if total_rain > significant_rain:\n",
    "        print(\"No irrigation needed: Significant rain forecasted.\")\n",
    "        return False\n",
    "    elif avg_precipitation_probability > high_precipitation_probability:\n",
    "        print(\"No irrigation needed: High chance of precipitation.\")\n",
    "        return False\n",
    "    elif avg_soil_temperature_0cm > high_temperature:\n",
    "        print(\"Irrigation needed: High soil temperature detected.\")\n",
    "        return True\n",
    "    else:\n",
    "        print(\"Irrigation needed: Low rain and precipitation probability.\")\n",
    "        return True\n",
    "\n",
    "def weather(lat, lng):\n",
    "    # Setup the Open-Meteo API client with cache and retry on error\n",
    "    cache_session = requests_cache.CachedSession('.cache', expire_after=3600)\n",
    "    retry_session = retry(cache_session, retries=5, backoff_factor=0.2)\n",
    "    openmeteo = openmeteo_requests.Client(session=retry_session)\n",
    "\n",
    "    # Make sure all required weather variables are listed here\n",
    "    url = \"https://api.open-meteo.com/v1/forecast\"\n",
    "    params = {\n",
    "        \"latitude\": lat,\n",
    "        \"longitude\": lng,\n",
    "        \"hourly\": [\n",
    "            \"temperature_2m\", \n",
    "            \"relative_humidity_2m\", \n",
    "            \"precipitation_probability\", \n",
    "            \"rain\", \n",
    "            \"soil_temperature_0cm\", \n",
    "            \"soil_temperature_6cm\", \n",
    "            \"soil_temperature_18cm\"\n",
    "        ],\n",
    "        \"past_days\": 7\n",
    "    }\n",
    "    responses = openmeteo.weather_api(url, params=params)\n",
    "\n",
    "    # Process first location. Add a for-loop for multiple locations or weather models\n",
    "    response = responses[0]\n",
    "    print(f\"Coordinates {response.Latitude()}°N {response.Longitude()}°E\")\n",
    "    print(f\"Elevation {response.Elevation()} m asl\")\n",
    "    print(f\"Timezone {response.Timezone()} {response.TimezoneAbbreviation()}\")\n",
    "    print(f\"Timezone difference to GMT+0 {response.UtcOffsetSeconds()} s\")\n",
    "\n",
    "    # Process hourly data\n",
    "    hourly = response.Hourly()\n",
    "    hourly_data = {\n",
    "        \"date\": pd.date_range(\n",
    "            start=pd.to_datetime(hourly.Time(), unit=\"s\", utc=True),\n",
    "            end=pd.to_datetime(hourly.TimeEnd(), unit=\"s\", utc=True),\n",
    "            freq=pd.Timedelta(seconds=hourly.Interval()),\n",
    "            inclusive=\"left\"\n",
    "        ),\n",
    "        \"temperature_2m\": hourly.Variables(0).ValuesAsNumpy(),\n",
    "        \"relative_humidity_2m\": hourly.Variables(1).ValuesAsNumpy(),\n",
    "        \"precipitation_probability\": hourly.Variables(2).ValuesAsNumpy(),\n",
    "        \"rain\": hourly.Variables(3).ValuesAsNumpy(),\n",
    "        \"soil_temperature_0cm\": hourly.Variables(4).ValuesAsNumpy(),\n",
    "        \"soil_temperature_6cm\": hourly.Variables(5).ValuesAsNumpy(),\n",
    "        \"soil_temperature_18cm\": hourly.Variables(6).ValuesAsNumpy(),\n",
    "    }\n",
    "\n",
    "    hourly_dataframe = pd.DataFrame(data=hourly_data)\n",
    "    print(hourly_dataframe)\n",
    "\n",
    "    # Determine if irrigation is needed based on weather data\n",
    "    irrigation_needed = should_irrigate(hourly_dataframe)\n",
    "    return irrigation_needed\n"
   ]
  },
  {
   "cell_type": "markdown",
   "id": "093f58b6-4021-46c0-a905-f20515756064",
   "metadata": {},
   "source": [
    "How This Works:\n",
    "\n",
    "- Data Collection: The weather forecast is retrieved using Open-Meteo, and the data is processed into a pandas.DataFrame for easier manipulation.\n",
    "\n",
    "- Decision Logic: The function should_irrigate() checks the weather data for the next 6 hours:\n",
    "            If the average precipitation probability is above 50%, irrigation is not needed.\n",
    "            If more than 5mm of rain is expected, irrigation is skipped.\n",
    "            If soil temperature at 0cm depth exceeds 30°C, irrigation is recommended to compensate for likely evaporation.\n",
    "\n",
    "- Output: The system will print the decision and return True or False based on whether irrigation is required."
   ]
  },
  {
   "cell_type": "code",
   "execution_count": null,
   "id": "23254b74-f028-4ede-b35b-3b7a460806a1",
   "metadata": {},
   "outputs": [],
   "source": []
  }
 ],
 "metadata": {
  "kernelspec": {
   "display_name": "Python 3 (ipykernel)",
   "language": "python",
   "name": "python3"
  },
  "language_info": {
   "codemirror_mode": {
    "name": "ipython",
    "version": 3
   },
   "file_extension": ".py",
   "mimetype": "text/x-python",
   "name": "python",
   "nbconvert_exporter": "python",
   "pygments_lexer": "ipython3",
   "version": "3.12.3"
  }
 },
 "nbformat": 4,
 "nbformat_minor": 5
}
